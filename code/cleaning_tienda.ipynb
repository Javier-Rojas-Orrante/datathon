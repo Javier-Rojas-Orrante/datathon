{
 "cells": [
  {
   "cell_type": "markdown",
   "metadata": {},
   "source": [
    "# Cleaining de DIM_Tienda"
   ]
  },
  {
   "cell_type": "code",
   "execution_count": 11,
   "metadata": {},
   "outputs": [
    {
     "name": "stdout",
     "output_type": "stream",
     "text": [
      "=== Resumen de Limpieza ===\n",
      "Cajones inválidos reemplazados: 63\n",
      "Puertas inválidas reemplazadas por NaN: 22\n",
      "Ceros en MTS2VENTAS_NUM imputados: 30\n",
      "Segmentos imputados: 0\n",
      "\n",
      "Medias de MTS2VENTAS_NUM por ENTORNO_DES:\n",
      "ENTORNO_DES\n",
      "Base        108.505714\n",
      "Hogar       109.726596\n",
      "Peatonal    115.495000\n",
      "Receso      102.018000\n",
      "Name: MTS2VENTAS_NUM, dtype: float64\n"
     ]
    }
   ],
   "source": [
    "import pandas as pd\n",
    "import numpy as np\n",
    "\n",
    "# === 1. Cargar el archivo ===\n",
    "df_tienda = pd.read_csv(\"DIM_TIENDA_TEST.csv\")\n",
    "\n",
    "# Copia para limpieza\n",
    "df_tienda_clean = df_tienda.copy()\n",
    "\n",
    "# === 2. Calcular medias por entorno para CAJONESESTACIONAMIENTO_NUM, excluyendo ceros ===\n",
    "mean_cajones = (\n",
    "    df_tienda_clean\n",
    "    .loc[df_tienda_clean['CAJONESESTACIONAMIENTO_NUM'] != 0]\n",
    "    .groupby('ENTORNO_DES')['CAJONESESTACIONAMIENTO_NUM']\n",
    "    .mean()\n",
    ")\n",
    "\n",
    "# === 3. Reemplazar 0 en CAJONESESTACIONAMIENTO_NUM por la media de su ENTORNO_DES\n",
    "# (excepto si LID_UBICACION_TIENDA es UN_TRAFICO_PEATONAL) ===\n",
    "cond_cajones_invalidos = (\n",
    "    (df_tienda_clean['CAJONESESTACIONAMIENTO_NUM'] == 0) &\n",
    "    (df_tienda_clean['LID_UBICACION_TIENDA'] != 'UN_TRAFICO_PEATONAL')\n",
    ")\n",
    "\n",
    "df_tienda_clean.loc[cond_cajones_invalidos, 'CAJONESESTACIONAMIENTO_NUM'] = (\n",
    "    df_tienda_clean.loc[cond_cajones_invalidos, 'ENTORNO_DES']\n",
    "    .map(mean_cajones).round().fillna(0).astype(int)\n",
    "\n",
    "    .astype(int)\n",
    ")\n",
    "\n",
    "# === 4. Reemplazar 0 en PUERTASREFRIG_NUM por NaN ===\n",
    "cond_puertas_invalidas = (df_tienda_clean['PUERTASREFRIG_NUM'] == 0)\n",
    "df_tienda_clean.loc[cond_puertas_invalidas, 'PUERTASREFRIG_NUM'] = np.nan\n",
    "\n",
    "# === 4.1 Imputar PUERTASREFRIG_NUM usando mediana por ENTORNO_DES ===\n",
    "medianas_refrig = (\n",
    "    df_tienda_clean.groupby('ENTORNO_DES')['PUERTASREFRIG_NUM']\n",
    "    .median()\n",
    "    .rename(\"median_refrig\")\n",
    ")\n",
    "\n",
    "df_tienda_clean = df_tienda_clean.merge(medianas_refrig, on='ENTORNO_DES', how='left')\n",
    "df_tienda_clean['PUERTASREFRIG_NUM'] = df_tienda_clean['PUERTASREFRIG_NUM'].fillna(df_tienda_clean['median_refrig'])\n",
    "df_tienda_clean.drop(columns='median_refrig', inplace=True)\n",
    "\n",
    "# === 5. Reemplazar 0 en MTS2VENTAS_NUM por la media de su ENTORNO_DES ===\n",
    "mean_mts2 = (\n",
    "    df_tienda_clean\n",
    "    .loc[df_tienda_clean['MTS2VENTAS_NUM'] != 0]\n",
    "    .groupby('ENTORNO_DES')['MTS2VENTAS_NUM']\n",
    "    .mean()\n",
    ")\n",
    "\n",
    "cond_mts2_ceros = df_tienda_clean['MTS2VENTAS_NUM'] == 0\n",
    "df_tienda_clean.loc[cond_mts2_ceros, 'MTS2VENTAS_NUM'] = (\n",
    "    df_tienda_clean.loc[cond_mts2_ceros, 'ENTORNO_DES'].map(mean_mts2)\n",
    ")\n",
    "\n",
    "# === 6. Imputar SEGMENTO_MAESTRO_DESC faltantes usando moda por entorno ===\n",
    "modas_por_entorno = (\n",
    "    df_tienda_clean\n",
    "    .groupby('ENTORNO_DES')['SEGMENTO_MAESTRO_DESC']\n",
    "    .agg(lambda x: x.mode().iloc[0] if not x.mode().empty else 'Desconocido')\n",
    ")\n",
    "\n",
    "missing_segmentos_before = df_tienda_clean['SEGMENTO_MAESTRO_DESC'].isna().sum()\n",
    "\n",
    "def imputar_segmento(row):\n",
    "    if pd.isna(row['SEGMENTO_MAESTRO_DESC']):\n",
    "        return modas_por_entorno[row['ENTORNO_DES']]\n",
    "    return row['SEGMENTO_MAESTRO_DESC']\n",
    "\n",
    "df_tienda_clean['SEGMENTO_MAESTRO_DESC'] = df_tienda_clean.apply(imputar_segmento, axis=1)\n",
    "missing_segmentos_after = df_tienda_clean['SEGMENTO_MAESTRO_DESC'].isna().sum()\n",
    "\n",
    "# === 7. Resumen de cambios ===\n",
    "print(\"=== Resumen de Limpieza ===\")\n",
    "print(f\"Cajones inválidos reemplazados: {cond_cajones_invalidos.sum()}\")\n",
    "print(f\"Puertas inválidas reemplazadas por NaN: {cond_puertas_invalidas.sum()}\")\n",
    "print(f\"Ceros en MTS2VENTAS_NUM imputados: {cond_mts2_ceros.sum()}\")\n",
    "print(f\"Segmentos imputados: {missing_segmentos_before - missing_segmentos_after}\")\n",
    "print(\"\\nMedias de MTS2VENTAS_NUM por ENTORNO_DES:\")\n",
    "print(mean_mts2)\n",
    "\n",
    "# === 8. Guardar archivo limpio ===\n",
    "df_tienda_clean.to_csv(\"cleaned_tienda_test.csv\", index=False)\n"
   ]
  },
  {
   "cell_type": "code",
   "execution_count": 12,
   "metadata": {},
   "outputs": [
    {
     "data": {
      "text/plain": [
       "TIENDA_ID                     0\n",
       "PLAZA_CVE                     0\n",
       "NIVELSOCIOECONOMICO_DES       0\n",
       "ENTORNO_DES                   0\n",
       "MTS2VENTAS_NUM                0\n",
       "PUERTASREFRIG_NUM             0\n",
       "CAJONESESTACIONAMIENTO_NUM    0\n",
       "LATITUD_NUM                   0\n",
       "LONGITUD_NUM                  0\n",
       "SEGMENTO_MAESTRO_DESC         0\n",
       "LID_UBICACION_TIENDA          0\n",
       "DATASET                       0\n",
       "dtype: int64"
      ]
     },
     "execution_count": 12,
     "metadata": {},
     "output_type": "execute_result"
    }
   ],
   "source": [
    "df_tienda_clean.isna().sum()"
   ]
  }
 ],
 "metadata": {
  "kernelspec": {
   "display_name": "base",
   "language": "python",
   "name": "python3"
  },
  "language_info": {
   "codemirror_mode": {
    "name": "ipython",
    "version": 3
   },
   "file_extension": ".py",
   "mimetype": "text/x-python",
   "name": "python",
   "nbconvert_exporter": "python",
   "pygments_lexer": "ipython3",
   "version": "3.11.6"
  }
 },
 "nbformat": 4,
 "nbformat_minor": 2
}
